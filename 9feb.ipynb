{
 "cells": [
  {
   "cell_type": "code",
   "execution_count": null,
   "id": "805c163a-3f7f-4b2f-a3e5-37c352002ea3",
   "metadata": {},
   "outputs": [],
   "source": [
    "'''Q1, Create a vehicle class with an init method having instance variables as name_of_vehicle, max_speed\n",
    "and average_of_vehicle.'''"
   ]
  },
  {
   "cell_type": "code",
   "execution_count": 23,
   "id": "a40351ee-0f93-4d04-a7cf-64a3eb831b3c",
   "metadata": {},
   "outputs": [],
   "source": [
    "class vehicle :\n",
    "    def __init__(self, vehicle_name, max_speed, average_of_vehicle) :\n",
    "        self.vehicle_name = vehicle_name \n",
    "        self.max_speed = max_speed \n",
    "        self.average_of_vehicle = average_of_vehicle\n",
    "        \n",
    "    def car_info(self) :\n",
    "        print(f\"Name : {self.vehicle_name}, max_speed : {self.max_speed}, average_of_vehicle : { self.average_of_vehicle}. \")"
   ]
  },
  {
   "cell_type": "code",
   "execution_count": 24,
   "id": "6d0a17a3-5dc0-41e9-b016-74b6d7866f6e",
   "metadata": {},
   "outputs": [],
   "source": [
    "v = vehicle(\"Porsche Cayenne Coupe\",300,'16kmpl')"
   ]
  },
  {
   "cell_type": "code",
   "execution_count": 71,
   "id": "635a9399-13a3-4893-9ca9-59a38d1d5299",
   "metadata": {},
   "outputs": [
    {
     "data": {
      "text/plain": [
       "'Porsche Cayenne Coupe'"
      ]
     },
     "execution_count": 71,
     "metadata": {},
     "output_type": "execute_result"
    }
   ],
   "source": [
    "v.vehicle_name"
   ]
  },
  {
   "cell_type": "code",
   "execution_count": 75,
   "id": "1a6dbb2e-959c-46cd-8707-91681f187041",
   "metadata": {},
   "outputs": [
    {
     "data": {
      "text/plain": [
       "300"
      ]
     },
     "execution_count": 75,
     "metadata": {},
     "output_type": "execute_result"
    }
   ],
   "source": [
    "v.max_speed"
   ]
  },
  {
   "cell_type": "code",
   "execution_count": 72,
   "id": "d4ea9cbf-a33c-4ade-9845-c9b2140c2a74",
   "metadata": {},
   "outputs": [
    {
     "name": "stdout",
     "output_type": "stream",
     "text": [
      "Name : Porsche Cayenne Coupe, max_speed : 300, average_of_vehicle : 16kmpl. \n"
     ]
    }
   ],
   "source": [
    "v.car_info()"
   ]
  },
  {
   "cell_type": "code",
   "execution_count": null,
   "id": "d66e379b-6749-4968-81e5-b374ea21fa7c",
   "metadata": {},
   "outputs": [],
   "source": [
    "'''Q2. Create a child class car from the vehicle class created in Que 1, which will inherit the vehicle class.\n",
    "Create a method named seating_capacity which takes capacity as an argument and returns the name of\n",
    "the vehicle and its seating capacity.'''"
   ]
  },
  {
   "cell_type": "code",
   "execution_count": 67,
   "id": "f60c8f08-3ddc-460b-af36-f4f727d80ec2",
   "metadata": {},
   "outputs": [],
   "source": [
    "class car(vehicle) :\n",
    "    def seating_capacity(self, capacity) :\n",
    "        print(f\"Vehicle{self.vehicle_name} has a seating capacity of {capacity}.\")"
   ]
  },
  {
   "cell_type": "code",
   "execution_count": 68,
   "id": "8fc5763c-3ff2-4c4d-8d39-c2fc6cf5f0ea",
   "metadata": {},
   "outputs": [],
   "source": [
    "my_car = car(\" Porsche Cayenne Coupe\",300,'16kmpl')"
   ]
  },
  {
   "cell_type": "code",
   "execution_count": 69,
   "id": "4ed22e5c-c029-41d5-a82f-184496db6eb3",
   "metadata": {},
   "outputs": [
    {
     "name": "stdout",
     "output_type": "stream",
     "text": [
      "Vehicle Porsche Cayenne Coupe has a seating capacity of 5 passengers.\n"
     ]
    }
   ],
   "source": [
    "my_car.seating_capacity(f\"5 passengers\")"
   ]
  },
  {
   "cell_type": "code",
   "execution_count": null,
   "id": "6eb1ab6b-8779-46f5-a321-254145b73bb2",
   "metadata": {},
   "outputs": [],
   "source": [
    "'''Q3. What is multiple inheritance? Write a python code to demonstrate multiple inheritance.'''"
   ]
  },
  {
   "cell_type": "code",
   "execution_count": 58,
   "id": "36e781a2-c007-4b15-bda5-622f05befb90",
   "metadata": {},
   "outputs": [
    {
     "data": {
      "text/plain": [
       "'when a class is derived from more than one base class it is called multiple inheritance.The derived class inherits all the features of the base class.'"
      ]
     },
     "execution_count": 58,
     "metadata": {},
     "output_type": "execute_result"
    }
   ],
   "source": [
    "'''when a class is derived from more than one base class it is called multiple inheritance.The derived class inherits all the features of the base class.'''"
   ]
  },
  {
   "cell_type": "code",
   "execution_count": 59,
   "id": "b7d3ba99-4b57-48e5-820f-94c3c9ad60ec",
   "metadata": {},
   "outputs": [],
   "source": [
    "#code for demonstrate multiple inheritance\n",
    "class my_classes :\n",
    "    def class_1 (self) :\n",
    "        return \"this is my 1st class\""
   ]
  },
  {
   "cell_type": "code",
   "execution_count": 47,
   "id": "03c13e94-34d0-4667-b932-604ad3c517d0",
   "metadata": {},
   "outputs": [],
   "source": [
    "class my_class_2 :\n",
    "    def class_2(self) :\n",
    "        return\"this is my 2nd class\""
   ]
  },
  {
   "cell_type": "code",
   "execution_count": 49,
   "id": "7d37c713-1833-4d7b-8062-279a077c7cbe",
   "metadata": {},
   "outputs": [],
   "source": [
    "class my_class_3(my_classes, my_class_2) :\n",
    "    pass"
   ]
  },
  {
   "cell_type": "code",
   "execution_count": 52,
   "id": "e0828b43-7f0b-4e93-9d82-ecdb58665639",
   "metadata": {},
   "outputs": [],
   "source": [
    "cls = my_class_3()"
   ]
  },
  {
   "cell_type": "code",
   "execution_count": 53,
   "id": "c0b5a28b-bca3-41da-95c4-d98ff0303017",
   "metadata": {},
   "outputs": [
    {
     "data": {
      "text/plain": [
       "'this is my 1st class'"
      ]
     },
     "execution_count": 53,
     "metadata": {},
     "output_type": "execute_result"
    }
   ],
   "source": [
    "cls.class_1()"
   ]
  },
  {
   "cell_type": "code",
   "execution_count": 54,
   "id": "498f822b-7d85-4dc8-bc4d-cb0c686c9fb9",
   "metadata": {},
   "outputs": [
    {
     "data": {
      "text/plain": [
       "'this is my 2nd class'"
      ]
     },
     "execution_count": 54,
     "metadata": {},
     "output_type": "execute_result"
    }
   ],
   "source": [
    "cls.class_2()"
   ]
  },
  {
   "cell_type": "code",
   "execution_count": null,
   "id": "521301d1-ebb9-443d-9390-6825a7bad460",
   "metadata": {},
   "outputs": [],
   "source": [
    "'''Q4. What are getter and setter in python? Create a class and create a getter and a setter method in this\n",
    "class.'''"
   ]
  },
  {
   "cell_type": "code",
   "execution_count": 22,
   "id": "47339f7b-0a8e-4bce-afc3-eae826823076",
   "metadata": {},
   "outputs": [
    {
     "data": {
      "text/plain": [
       "'ans = we use getter and setter to add validation logic around getting and setting a value, and to avoid the direct access of class field\\ni.e private variables cannot be accessed directly or modified by external user.'"
      ]
     },
     "execution_count": 22,
     "metadata": {},
     "output_type": "execute_result"
    }
   ],
   "source": [
    "'''ans = we use getter and setter to add validation logic around getting and setting a value, and to avoid the direct access of class field\n",
    "i.e private variables cannot be accessed directly or modified by external user.'''"
   ]
  },
  {
   "cell_type": "code",
   "execution_count": 7,
   "id": "4271628d-67ab-474b-82b2-404380815166",
   "metadata": {},
   "outputs": [],
   "source": [
    "class my_vehicle :\n",
    "    def __init__(self, vehicle_name, v_class, speed) :\n",
    "        self.__vehicle_name = vehicle_name\n",
    "        self.__v_class = v_class\n",
    "        self.__speed = speed \n",
    "        \n",
    "    def set_speed(self,speed) :\n",
    "        self.__speed = 0 if speed < 0 else speed\n",
    "    \n",
    "    def get_speed(self) :\n",
    "        return self.__speed "
   ]
  },
  {
   "cell_type": "code",
   "execution_count": 10,
   "id": "3f0b6dfb-2885-4bba-aaa7-c09726673732",
   "metadata": {},
   "outputs": [],
   "source": [
    "myv = my_vehicle(\"TVS\",\"A\",80)"
   ]
  },
  {
   "cell_type": "code",
   "execution_count": 14,
   "id": "764376da-7709-47de-b79b-ea4cb269b88e",
   "metadata": {},
   "outputs": [],
   "source": [
    "myv.set_speed(78)"
   ]
  },
  {
   "cell_type": "code",
   "execution_count": 15,
   "id": "fce126d2-f3fb-4f2e-b28e-8097b031c8c7",
   "metadata": {},
   "outputs": [
    {
     "data": {
      "text/plain": [
       "78"
      ]
     },
     "execution_count": 15,
     "metadata": {},
     "output_type": "execute_result"
    }
   ],
   "source": [
    "myv.get_speed()"
   ]
  },
  {
   "cell_type": "code",
   "execution_count": null,
   "id": "cf4f0f51-8ec0-4af7-afd2-62a2dbfed28c",
   "metadata": {},
   "outputs": [],
   "source": [
    "'''Q5.What is method overriding in python? Write a python code to demonstrate method overriding.'''"
   ]
  },
  {
   "cell_type": "code",
   "execution_count": 25,
   "id": "f9f722fa-e8b8-446f-bdc7-c9210c52c494",
   "metadata": {},
   "outputs": [
    {
     "data": {
      "text/plain": [
       "'Method Overriding is a feature in object-oriented programming that allows a subclass or derived class to provide a different implementation of a method that is already provided by its superclass or base class. The idea behind method overriding is to allow subclasses to specialize the behavior defined in their superclass by providing a different implementation of the method.'"
      ]
     },
     "execution_count": 25,
     "metadata": {},
     "output_type": "execute_result"
    }
   ],
   "source": [
    "'''Method Overriding is a feature in object-oriented programming that allows a subclass or derived class to provide a different implementation of a method that is already provided by its superclass or base class. The idea behind method overriding is to allow subclasses to specialize the behavior defined in their superclass by providing a different implementation of the method.'''"
   ]
  },
  {
   "cell_type": "code",
   "execution_count": 26,
   "id": "6ecf249f-e915-4c9b-9872-78c0ab841cb2",
   "metadata": {},
   "outputs": [],
   "source": [
    "class animal:\n",
    "    def make_sound(self):\n",
    "        print(\"Animal make a sound\")\n",
    "    \n",
    "class Tiger(animal):\n",
    "    def make_sound(self):\n",
    "        print(\"Tiger Roar\")"
   ]
  },
  {
   "cell_type": "code",
   "execution_count": 27,
   "id": "2156669c-4d84-4270-889c-678bfb46e8bc",
   "metadata": {},
   "outputs": [],
   "source": [
    "t = Tiger()"
   ]
  },
  {
   "cell_type": "code",
   "execution_count": 29,
   "id": "25c26bb2-5bca-4e11-8c69-402e0d6d7f7c",
   "metadata": {},
   "outputs": [
    {
     "name": "stdout",
     "output_type": "stream",
     "text": [
      "Tiger Roar\n"
     ]
    }
   ],
   "source": [
    "t.make_sound()"
   ]
  },
  {
   "cell_type": "code",
   "execution_count": null,
   "id": "1539e4d4-c150-4f4b-b365-f766916a3afe",
   "metadata": {},
   "outputs": [],
   "source": []
  }
 ],
 "metadata": {
  "kernelspec": {
   "display_name": "Python 3 (ipykernel)",
   "language": "python",
   "name": "python3"
  },
  "language_info": {
   "codemirror_mode": {
    "name": "ipython",
    "version": 3
   },
   "file_extension": ".py",
   "mimetype": "text/x-python",
   "name": "python",
   "nbconvert_exporter": "python",
   "pygments_lexer": "ipython3",
   "version": "3.10.8"
  }
 },
 "nbformat": 4,
 "nbformat_minor": 5
}
